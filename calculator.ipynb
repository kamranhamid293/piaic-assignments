{
 "cells": [
  {
   "cell_type": "markdown",
   "metadata": {},
   "source": [
    "# Calculator"
   ]
  },
  {
   "cell_type": "code",
   "execution_count": 37,
   "metadata": {},
   "outputs": [
    {
     "name": "stdout",
     "output_type": "stream",
     "text": [
      " !!! Welcome to Basic Calculator !!!\n",
      "Select any Operation\n",
      "Select 1 to add\n",
      "Select 2 to minus\n",
      "Select 3 to multiply\n",
      "Select 4 to division\n",
      "Select 5 to exit\n",
      "10 / 0 = Invalid Number\n"
     ]
    }
   ],
   "source": [
    "print(\"\"\" !!! Welcome to Basic Calculator !!!\"\"\")\n",
    "\n",
    "\n",
    "def add (num1, num2):\n",
    "    return num1 + num2\n",
    "\n",
    "def minus (num1, num2):\n",
    "    return num1 - num2\n",
    "\n",
    "def multiply (num1, num2):\n",
    "    return num1 * num2\n",
    "\n",
    "def division (num1, num2):\n",
    "    if num2 == 0:\n",
    "        return \"Invalid Number\"\n",
    "    else:\n",
    "        return num1 / num2\n",
    "\n",
    "\n",
    "print(\"Select any Operation\")\n",
    "print(\"Select 1 to add\")\n",
    "print(\"Select 2 to minus\")\n",
    "print(\"Select 3 to multiply\")\n",
    "print(\"Select 4 to division\")\n",
    "print(\"Select 5 to exit\")\n",
    "\n",
    "\n",
    "\n",
    "while True:\n",
    "\n",
    "    # print(\"Select any Operation\")\n",
    "    # print(\"Select 1 to add\")\n",
    "    # print(\"Select 2 to minus\")\n",
    "    # print(\"Select 3 to multiply\")\n",
    "    # print(\"Select 4 to division\")\n",
    "    # print(\"Select 5 to exit\")\n",
    "    \n",
    "    choice = input(\"Enter your choice (1/2/3/4/5): \")\n",
    "    \n",
    "    if choice in ('1','2','3','4','5'):\n",
    "        try:\n",
    "            num1 = int(input(\"Enter your first number: \"))\n",
    "            num2 = int(input(\"Enter your Second number: \"))\n",
    "        except:\n",
    "            Print(\"You have entered an invalid number\")\n",
    "            continue\n",
    "        \n",
    "        if choice == '1':\n",
    "            print(num1, \"+\", num2, \"=\", add(num1, num2))\n",
    "            \n",
    "        elif choice == '2':\n",
    "            print(num1, \"-\", num2, \"=\", minus(num1, num2))\n",
    "            \n",
    "        elif choice == '3':\n",
    "            print(num1, \"x\", num2, \"=\", multiply(num1, num2))\n",
    "            \n",
    "        elif choice == '4':\n",
    "            print(num1, \"/\", num2, \"=\", division(num1, num2))    \n",
    "    else:\n",
    "        print(\"You have entered and invalid number\")\n",
    "            \n",
    "    break\n",
    "\n",
    "        \n",
    "        \n",
    "\n"
   ]
  }
 ],
 "metadata": {
  "kernelspec": {
   "display_name": "Python 3",
   "language": "python",
   "name": "python3"
  },
  "language_info": {
   "codemirror_mode": {
    "name": "ipython",
    "version": 3
   },
   "file_extension": ".py",
   "mimetype": "text/x-python",
   "name": "python",
   "nbconvert_exporter": "python",
   "pygments_lexer": "ipython3",
   "version": "3.12.5"
  }
 },
 "nbformat": 4,
 "nbformat_minor": 2
}
