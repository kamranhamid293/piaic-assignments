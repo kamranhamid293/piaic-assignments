{
 "cells": [
  {
   "cell_type": "markdown",
   "metadata": {},
   "source": [
    "\"\"\" Assignment 7:\n",
    "You are tasked with creating a Python program that serves as an interactive tool for a friend who enjoys exploring numbers. The program should begin by prompting the user to enter their name and then ask them for three of their favorite numbers. After gathering this information, the program should greet the user with a personalized message that includes their name. The three numbers provided by the user should be stored in a list. The program should then check if any of the numbers are even or odd, and store this information in a separate list of tuples, where each tuple contains the number and a string indicating whether it is \"even\" or \"odd\". Following this, the program should use a for loop to iterate over the list of numbers, and for each number, it should create a tuple containing the number and its square. These tuples should be printed in a creative and engaging format. Additionally, the program should calculate the sum of the three numbers and print the result, accompanied by an encouraging message. Finally, the program should determine if the sum is a prime number and notify the user with an appropriate message. The goal is to make the tool both enjoyable and informative, allowing the user to explore their favorite numbers in a fun and interactive way, while also introducing some interesting logical checks. \"\"\"\n"
   ]
  },
  {
   "cell_type": "markdown",
   "metadata": {},
   "source": [
    "Enter your name: Alex\n",
    "Enter your first favorite number: 4\n",
    "Enter your second favorite number: 6\n",
    "Enter your third favorite number: 9\n",
    "\n",
    "Hello, Alex! Let's explore your favorite numbers:\n",
    "The number 4 is even.\n",
    "The number 6 is even.\n",
    "The number 9 is odd.\n",
    "The number 4 and its square: (4, 16)\n",
    "The number 6 and its square: (6, 36)\n",
    "The number 9 and its square: (9, 81)\n",
    "\n",
    "Amazing! The sum of your favorite numbers is: 19\n",
    "Wow, 19 is a prime number!\n"
   ]
  },
  {
   "cell_type": "code",
   "execution_count": 107,
   "metadata": {},
   "outputs": [
    {
     "data": {
      "text/markdown": [
       "Please enter your name: **Kamran**"
      ],
      "text/plain": [
       "<IPython.core.display.Markdown object>"
      ]
     },
     "metadata": {},
     "output_type": "display_data"
    },
    {
     "data": {
      "text/markdown": [
       "The number ** 2 *** is ** even**.\n"
      ],
      "text/plain": [
       "<IPython.core.display.Markdown object>"
      ]
     },
     "metadata": {},
     "output_type": "display_data"
    },
    {
     "data": {
      "text/markdown": [
       "The number ** 3 *** is ** odd**.\n"
      ],
      "text/plain": [
       "<IPython.core.display.Markdown object>"
      ]
     },
     "metadata": {},
     "output_type": "display_data"
    },
    {
     "data": {
      "text/markdown": [
       "The number ** 4 *** is ** even**.\n"
      ],
      "text/plain": [
       "<IPython.core.display.Markdown object>"
      ]
     },
     "metadata": {},
     "output_type": "display_data"
    },
    {
     "name": "stdout",
     "output_type": "stream",
     "text": [
      "The number 2, and its square is 4.\n",
      "\n",
      "The number 3, and its square is 9.\n",
      "\n",
      "The number 4, and its square is 16.\n",
      "\n",
      "The sum of your numbers is: 9\n",
      "Your 9 is not a prime number\n"
     ]
    }
   ],
   "source": [
    "from IPython.display import display, Markdown\n",
    "\n",
    "inputter_name = input(\"Please enter your name: \")\n",
    "display(Markdown(f\"Please enter your name: **{inputter_name}**\")) \n",
    "\n",
    "\n",
    "fav_1 = int(input(\"Enter your first number:\"))\n",
    "fav_2 = int(input(\"Enter your 2nd number:\"))\n",
    "fav_3 = int(input(\"Enter your 3rd number:\"))\n",
    "\n",
    "fav_num = [fav_1, fav_2, fav_3]\n",
    "\n",
    "even_odd = []\n",
    "\n",
    "for num in fav_num:\n",
    "    if num % 2 == 0:\n",
    "        even_odd.append((num, \"even\"))\n",
    "    else:\n",
    "        even_odd.append((num, \"odd\"))\n",
    "    \n",
    "\n",
    "for even in even_odd:\n",
    "    print(f\"The number {even[0]} is {even[1]}.\\n\"))    \n",
    "\n",
    "\n",
    "square_num = []\n",
    "\n",
    "for num in fav_num:\n",
    "    square_num.append((num, num ** 2))\n",
    "\n",
    "for sq in square_num:\n",
    "    print(f\"The number {sq[0]}, and its square is {sq[1]}.\\n\")\n",
    "    \n",
    "\n",
    "sum_num = fav_1 + fav_2 + fav_3\n",
    "print(f\"The sum of your numbers is: {sum_num}\")\n",
    "\n",
    "\n",
    "is_prime = True\n",
    "if sum_num <= 1:\n",
    "    is_prime = False\n",
    "    \n",
    "else:\n",
    "    for x in range(2, sum_num):\n",
    "        if sum_num % x == 0:\n",
    "            is_prime = False\n",
    "            break\n",
    "        \n",
    "if is_prime:\n",
    "    print(f\"The sum of total number is a Prime Number\")\n",
    "else:\n",
    "    print(f\"Your {sum_num} is not a prime number\")    \n",
    "        "
   ]
  }
 ],
 "metadata": {
  "kernelspec": {
   "display_name": "Python 3",
   "language": "python",
   "name": "python3"
  },
  "language_info": {
   "codemirror_mode": {
    "name": "ipython",
    "version": 3
   },
   "file_extension": ".py",
   "mimetype": "text/x-python",
   "name": "python",
   "nbconvert_exporter": "python",
   "pygments_lexer": "ipython3",
   "version": "3.12.5"
  }
 },
 "nbformat": 4,
 "nbformat_minor": 2
}
