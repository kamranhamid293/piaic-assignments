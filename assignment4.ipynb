{
 "cells": [
  {
   "cell_type": "code",
   "execution_count": 283,
   "metadata": {},
   "outputs": [
    {
     "data": {
      "text/plain": [
       "'Asim'"
      ]
     },
     "execution_count": 283,
     "metadata": {},
     "output_type": "execute_result"
    }
   ],
   "source": [
    "name:list = [\"Asim\", \"Hasan\", \"Kashif\", \"Raza\"]\n",
    "name[0]\n"
   ]
  },
  {
   "cell_type": "code",
   "execution_count": 284,
   "metadata": {},
   "outputs": [
    {
     "data": {
      "text/plain": [
       "'Hasan'"
      ]
     },
     "execution_count": 284,
     "metadata": {},
     "output_type": "execute_result"
    }
   ],
   "source": [
    "name [1]"
   ]
  },
  {
   "cell_type": "code",
   "execution_count": 285,
   "metadata": {},
   "outputs": [
    {
     "data": {
      "text/plain": [
       "'Kashif'"
      ]
     },
     "execution_count": 285,
     "metadata": {},
     "output_type": "execute_result"
    }
   ],
   "source": [
    "name[2]"
   ]
  },
  {
   "cell_type": "code",
   "execution_count": 286,
   "metadata": {},
   "outputs": [
    {
     "data": {
      "text/plain": [
       "'Raza'"
      ]
     },
     "execution_count": 286,
     "metadata": {},
     "output_type": "execute_result"
    }
   ],
   "source": [
    "name[3]"
   ]
  },
  {
   "cell_type": "code",
   "execution_count": 287,
   "metadata": {},
   "outputs": [
    {
     "name": "stdout",
     "output_type": "stream",
     "text": [
      "Hey My Name is Asim\n"
     ]
    }
   ],
   "source": [
    "print(f\"Hey My Name is {name[0]}\")"
   ]
  },
  {
   "cell_type": "code",
   "execution_count": 288,
   "metadata": {},
   "outputs": [
    {
     "name": "stdout",
     "output_type": "stream",
     "text": [
      "Hey My Name is Hasan\n"
     ]
    }
   ],
   "source": [
    "print(f\"Hey My Name is {name[1]}\")"
   ]
  },
  {
   "cell_type": "code",
   "execution_count": 289,
   "metadata": {},
   "outputs": [
    {
     "name": "stdout",
     "output_type": "stream",
     "text": [
      "Hey My Name is Kashif\n"
     ]
    }
   ],
   "source": [
    "print(f\"Hey My Name is {name[2]}\")"
   ]
  },
  {
   "cell_type": "code",
   "execution_count": 290,
   "metadata": {},
   "outputs": [
    {
     "name": "stdout",
     "output_type": "stream",
     "text": [
      "Hey My Name is Raza\n"
     ]
    }
   ],
   "source": [
    "print(f\"Hey My Name is {name[3]}\")"
   ]
  },
  {
   "cell_type": "code",
   "execution_count": 291,
   "metadata": {},
   "outputs": [],
   "source": [
    "vehicle_name:list = [\"Car\", \"Motorbike\", \"Cycle\"]"
   ]
  },
  {
   "cell_type": "code",
   "execution_count": 292,
   "metadata": {},
   "outputs": [
    {
     "name": "stdout",
     "output_type": "stream",
     "text": [
      "Hey everyone, My Name is Asim. I have a beautiful Car\n"
     ]
    }
   ],
   "source": [
    "print(f\"Hey everyone, My Name is {name[0]}. I have a beautiful {vehicle_name[0]}\")"
   ]
  },
  {
   "cell_type": "code",
   "execution_count": 293,
   "metadata": {},
   "outputs": [],
   "source": [
    "guestlist = [\"Arshad\", \"Zahid\", \"Sabir\"]"
   ]
  },
  {
   "cell_type": "code",
   "execution_count": 294,
   "metadata": {},
   "outputs": [
    {
     "name": "stdout",
     "output_type": "stream",
     "text": [
      "Hey Arshad, How are you doing today? I would like to invite you on the dinner for tomorrow. Would you join me? You can take my Car for commuting. \n"
     ]
    }
   ],
   "source": [
    "print(f\"Hey {guestlist[0]}, How are you doing today? I would like to invite you on the dinner for tomorrow. Would you join me? You can take my {vehicle_name[0]} for commuting. \")"
   ]
  },
  {
   "cell_type": "code",
   "execution_count": 295,
   "metadata": {},
   "outputs": [
    {
     "name": "stdout",
     "output_type": "stream",
     "text": [
      "Hey Zahid, How are you doing today? I would like to invite you on the dinner for tomorrow. Would you join me? You can take my Motorbike for commuting. \n"
     ]
    }
   ],
   "source": [
    "print(f\"Hey {guestlist[1]}, How are you doing today? I would like to invite you on the dinner for tomorrow. Would you join me? You can take my {vehicle_name[1]} for commuting. \")"
   ]
  },
  {
   "cell_type": "code",
   "execution_count": 296,
   "metadata": {},
   "outputs": [
    {
     "name": "stdout",
     "output_type": "stream",
     "text": [
      "Hey Sabir, How are you doing today? I would like to invite you on the dinner for tomorrow. Would you join me? You can take my Cycle for commuting. \n"
     ]
    }
   ],
   "source": [
    "print(f\"Hey {guestlist[2]}, How are you doing today? I would like to invite you on the dinner for tomorrow. Would you join me? You can take my {vehicle_name[2]} for commuting. \")"
   ]
  },
  {
   "cell_type": "code",
   "execution_count": 297,
   "metadata": {},
   "outputs": [
    {
     "name": "stdout",
     "output_type": "stream",
     "text": [
      "Dear Mr.Arshad, You are invited for a dinner\n",
      "Dear Mr.Zahid, You are invited for a dinner\n",
      "Dear Mr.Sabir, You are invited for a dinner\n"
     ]
    }
   ],
   "source": [
    "for guest in guestlist:\n",
    "    print(f\"Dear Mr.{guest}, You are invited for a dinner\")"
   ]
  },
  {
   "cell_type": "code",
   "execution_count": 298,
   "metadata": {},
   "outputs": [
    {
     "name": "stdout",
     "output_type": "stream",
     "text": [
      "Hey, Arshad cannot make it to the dinner.\n",
      " Dear Saima, you are invited for a dinner.\n",
      " Dear Zahid, you are invited for a dinner.\n",
      " Dear Sabir, you are invited for a dinner.\n"
     ]
    }
   ],
   "source": [
    "print(f\"Hey, {guestlist[0]} cannot make it to the dinner.\")\n",
    "guestlist[0] = \"Saima\"\n",
    "for guest in guestlist:\n",
    "    print(f\" Dear {guest}, you are invited for a dinner.\")\n"
   ]
  },
  {
   "cell_type": "code",
   "execution_count": 299,
   "metadata": {},
   "outputs": [
    {
     "name": "stdout",
     "output_type": "stream",
     "text": [
      "Hey Amir, You are invited to my home today.\n",
      "Hey Saima, You are invited to my home today.\n",
      "Hey Haseeb, You are invited to my home today.\n",
      "Hey Zahid, You are invited to my home today.\n",
      "Hey Sabir, You are invited to my home today.\n",
      "Hey Sufiyan, You are invited to my home today.\n"
     ]
    }
   ],
   "source": [
    "guestlist.insert(0, \"Amir\")\n",
    "guestlist.insert(2, \"Haseeb\")\n",
    "guestlist.append(\"Sufiyan\")\n",
    "\n",
    "for guest in guestlist:\n",
    "    print(f\"Hey {guest}, You are invited to my home today.\")"
   ]
  },
  {
   "cell_type": "code",
   "execution_count": 300,
   "metadata": {},
   "outputs": [],
   "source": [
    "guestlist.insert(1, \"Saba\")\n",
    "guestlist.insert(2, \"Hina\")\n",
    "guestlist.insert(3, \"Shariq\")\n",
    "guestlist.insert(4, \"Numair\")"
   ]
  },
  {
   "cell_type": "code",
   "execution_count": 301,
   "metadata": {},
   "outputs": [
    {
     "data": {
      "text/plain": [
       "['Amir',\n",
       " 'Saba',\n",
       " 'Hina',\n",
       " 'Shariq',\n",
       " 'Numair',\n",
       " 'Saima',\n",
       " 'Haseeb',\n",
       " 'Zahid',\n",
       " 'Sabir',\n",
       " 'Sufiyan']"
      ]
     },
     "execution_count": 301,
     "metadata": {},
     "output_type": "execute_result"
    }
   ],
   "source": [
    "guestlist"
   ]
  },
  {
   "cell_type": "code",
   "execution_count": 302,
   "metadata": {},
   "outputs": [
    {
     "data": {
      "text/plain": [
       "['Amir',\n",
       " 'Saba',\n",
       " 'Nasir',\n",
       " 'Hina',\n",
       " 'Shariq',\n",
       " 'Numair',\n",
       " 'Saima',\n",
       " 'Haseeb',\n",
       " 'Zahid',\n",
       " 'Sabir',\n",
       " 'Sufiyan']"
      ]
     },
     "execution_count": 302,
     "metadata": {},
     "output_type": "execute_result"
    }
   ],
   "source": [
    "guestlist.insert(2, \"Nasir\")\n",
    "guestlist"
   ]
  },
  {
   "cell_type": "code",
   "execution_count": 303,
   "metadata": {},
   "outputs": [
    {
     "name": "stdout",
     "output_type": "stream",
     "text": [
      "Dear Saba, We are sorry. You are not invited\n",
      "Dear Hina, We are sorry. You are not invited\n",
      "Dear Numair, We are sorry. You are not invited\n",
      "Dear Haseeb, We are sorry. You are not invited\n",
      "Dear Sabir, We are sorry. You are not invited\n"
     ]
    },
    {
     "ename": "IndexError",
     "evalue": "pop index out of range",
     "output_type": "error",
     "traceback": [
      "\u001b[1;31m---------------------------------------------------------------------------\u001b[0m",
      "\u001b[1;31mIndexError\u001b[0m                                Traceback (most recent call last)",
      "Cell \u001b[1;32mIn[303], line 7\u001b[0m\n\u001b[0;32m      5\u001b[0m \u001b[38;5;28mprint\u001b[39m(\u001b[38;5;124mf\u001b[39m\u001b[38;5;124m\"\u001b[39m\u001b[38;5;124mDear \u001b[39m\u001b[38;5;132;01m{\u001b[39;00mguestlist\u001b[38;5;241m.\u001b[39mpop(\u001b[38;5;241m4\u001b[39m)\u001b[38;5;132;01m}\u001b[39;00m\u001b[38;5;124m, We are sorry. You are not invited\u001b[39m\u001b[38;5;124m\"\u001b[39m)\n\u001b[0;32m      6\u001b[0m \u001b[38;5;28mprint\u001b[39m(\u001b[38;5;124mf\u001b[39m\u001b[38;5;124m\"\u001b[39m\u001b[38;5;124mDear \u001b[39m\u001b[38;5;132;01m{\u001b[39;00mguestlist\u001b[38;5;241m.\u001b[39mpop(\u001b[38;5;241m5\u001b[39m)\u001b[38;5;132;01m}\u001b[39;00m\u001b[38;5;124m, We are sorry. You are not invited\u001b[39m\u001b[38;5;124m\"\u001b[39m)\n\u001b[1;32m----> 7\u001b[0m \u001b[38;5;28mprint\u001b[39m(\u001b[38;5;124mf\u001b[39m\u001b[38;5;124m\"\u001b[39m\u001b[38;5;124mDear \u001b[39m\u001b[38;5;132;01m{\u001b[39;00m\u001b[43mguestlist\u001b[49m\u001b[38;5;241;43m.\u001b[39;49m\u001b[43mpop\u001b[49m\u001b[43m(\u001b[49m\u001b[38;5;241;43m6\u001b[39;49m\u001b[43m)\u001b[49m\u001b[38;5;132;01m}\u001b[39;00m\u001b[38;5;124m, We are sorry. You are not invited\u001b[39m\u001b[38;5;124m\"\u001b[39m)\n\u001b[0;32m      8\u001b[0m \u001b[38;5;28mprint\u001b[39m(\u001b[38;5;124mf\u001b[39m\u001b[38;5;124m\"\u001b[39m\u001b[38;5;124mDear \u001b[39m\u001b[38;5;132;01m{\u001b[39;00mguestlist\u001b[38;5;241m.\u001b[39mpop(\u001b[38;5;241m7\u001b[39m)\u001b[38;5;132;01m}\u001b[39;00m\u001b[38;5;124m, We are sorry. You are not invited\u001b[39m\u001b[38;5;124m\"\u001b[39m)\n\u001b[0;32m      9\u001b[0m \u001b[38;5;28mprint\u001b[39m(\u001b[38;5;124mf\u001b[39m\u001b[38;5;124m\"\u001b[39m\u001b[38;5;124mDear \u001b[39m\u001b[38;5;132;01m{\u001b[39;00mguestlist\u001b[38;5;241m.\u001b[39mpop(\u001b[38;5;241m8\u001b[39m)\u001b[38;5;132;01m}\u001b[39;00m\u001b[38;5;124m, We are sorry. You are not invited\u001b[39m\u001b[38;5;124m\"\u001b[39m)\n",
      "\u001b[1;31mIndexError\u001b[0m: pop index out of range"
     ]
    }
   ],
   "source": [
    "#Question 3.7\n",
    "print(f\"Dear {guestlist.pop(1)}, We are sorry. You are not invited\")\n",
    "print(f\"Dear {guestlist.pop(2)}, We are sorry. You are not invited\")\n",
    "print(f\"Dear {guestlist.pop(3)}, We are sorry. You are not invited\")\n",
    "print(f\"Dear {guestlist.pop(4)}, We are sorry. You are not invited\")\n",
    "print(f\"Dear {guestlist.pop(5)}, We are sorry. You are not invited\")\n",
    "print(f\"Dear {guestlist.pop(6)}, We are sorry. You are not invited\")\n"
   ]
  },
  {
   "cell_type": "code",
   "execution_count": 304,
   "metadata": {},
   "outputs": [
    {
     "data": {
      "text/plain": [
       "['Amir', 'Nasir', 'Shariq', 'Saima', 'Zahid', 'Sufiyan']"
      ]
     },
     "execution_count": 304,
     "metadata": {},
     "output_type": "execute_result"
    }
   ],
   "source": [
    "guestlist"
   ]
  },
  {
   "cell_type": "code",
   "execution_count": 307,
   "metadata": {},
   "outputs": [
    {
     "name": "stdout",
     "output_type": "stream",
     "text": [
      "Dear Zahid, We are sorry. You are not invited\n",
      "Dear Sufiyan, We are sorry. You are not invited\n"
     ]
    },
    {
     "ename": "IndexError",
     "evalue": "pop index out of range",
     "output_type": "error",
     "traceback": [
      "\u001b[1;31m---------------------------------------------------------------------------\u001b[0m",
      "\u001b[1;31mIndexError\u001b[0m                                Traceback (most recent call last)",
      "Cell \u001b[1;32mIn[307], line 3\u001b[0m\n\u001b[0;32m      1\u001b[0m \u001b[38;5;28mprint\u001b[39m(\u001b[38;5;124mf\u001b[39m\u001b[38;5;124m\"\u001b[39m\u001b[38;5;124mDear \u001b[39m\u001b[38;5;132;01m{\u001b[39;00mguestlist\u001b[38;5;241m.\u001b[39mpop(\u001b[38;5;241m1\u001b[39m)\u001b[38;5;132;01m}\u001b[39;00m\u001b[38;5;124m, We are sorry. You are not invited\u001b[39m\u001b[38;5;124m\"\u001b[39m)\n\u001b[0;32m      2\u001b[0m \u001b[38;5;28mprint\u001b[39m(\u001b[38;5;124mf\u001b[39m\u001b[38;5;124m\"\u001b[39m\u001b[38;5;124mDear \u001b[39m\u001b[38;5;132;01m{\u001b[39;00mguestlist\u001b[38;5;241m.\u001b[39mpop(\u001b[38;5;241m1\u001b[39m)\u001b[38;5;132;01m}\u001b[39;00m\u001b[38;5;124m, We are sorry. You are not invited\u001b[39m\u001b[38;5;124m\"\u001b[39m)\n\u001b[1;32m----> 3\u001b[0m \u001b[38;5;28mprint\u001b[39m(\u001b[38;5;124mf\u001b[39m\u001b[38;5;124m\"\u001b[39m\u001b[38;5;124mDear \u001b[39m\u001b[38;5;132;01m{\u001b[39;00m\u001b[43mguestlist\u001b[49m\u001b[38;5;241;43m.\u001b[39;49m\u001b[43mpop\u001b[49m\u001b[43m(\u001b[49m\u001b[38;5;241;43m1\u001b[39;49m\u001b[43m)\u001b[49m\u001b[38;5;132;01m}\u001b[39;00m\u001b[38;5;124m, We are sorry. You are not invited\u001b[39m\u001b[38;5;124m\"\u001b[39m)\n",
      "\u001b[1;31mIndexError\u001b[0m: pop index out of range"
     ]
    }
   ],
   "source": [
    "print(f\"Dear {guestlist.pop(1)}, We are sorry. You are not invited\")\n",
    "print(f\"Dear {guestlist.pop(1)}, We are sorry. You are not invited\")\n",
    "print(f\"Dear {guestlist.pop(1)}, We are sorry. You are not invited\")"
   ]
  },
  {
   "cell_type": "code",
   "execution_count": 309,
   "metadata": {},
   "outputs": [],
   "source": [
    "guestlist.insert(2, \"Saba\")"
   ]
  },
  {
   "cell_type": "code",
   "execution_count": 310,
   "metadata": {},
   "outputs": [
    {
     "data": {
      "text/plain": [
       "['Amir', 'Saba']"
      ]
     },
     "execution_count": 310,
     "metadata": {},
     "output_type": "execute_result"
    }
   ],
   "source": [
    "guestlist"
   ]
  },
  {
   "cell_type": "code",
   "execution_count": 314,
   "metadata": {},
   "outputs": [],
   "source": [
    "del guestlist"
   ]
  },
  {
   "cell_type": "code",
   "execution_count": 318,
   "metadata": {},
   "outputs": [
    {
     "name": "stdout",
     "output_type": "stream",
     "text": [
      "['Malaysia', 'Singapore', 'Rome', 'Italy', 'USA']\n"
     ]
    }
   ],
   "source": [
    "places_to_go = ['Malaysia', 'Singapore', 'Rome', 'Italy', 'USA']\n",
    "print(places_to_go)"
   ]
  },
  {
   "cell_type": "code",
   "execution_count": 344,
   "metadata": {},
   "outputs": [],
   "source": [
    "sorted_places = places_to_go.copy()"
   ]
  },
  {
   "cell_type": "code",
   "execution_count": 345,
   "metadata": {},
   "outputs": [
    {
     "data": {
      "text/plain": [
       "['Malaysia', 'Singapore', 'Rome', 'Italy', 'USA']"
      ]
     },
     "execution_count": 345,
     "metadata": {},
     "output_type": "execute_result"
    }
   ],
   "source": [
    "sorted_places"
   ]
  },
  {
   "cell_type": "code",
   "execution_count": 346,
   "metadata": {},
   "outputs": [
    {
     "name": "stdout",
     "output_type": "stream",
     "text": [
      "Alphabetical Order ['Italy', 'Malaysia', 'Rome', 'Singapore', 'USA']\n"
     ]
    }
   ],
   "source": [
    "print(\"Alphabetical Order\",sorted(sorted_places))"
   ]
  },
  {
   "cell_type": "code",
   "execution_count": 347,
   "metadata": {},
   "outputs": [
    {
     "name": "stdout",
     "output_type": "stream",
     "text": [
      "Reverse Order ['USA', 'Singapore', 'Rome', 'Malaysia', 'Italy']\n"
     ]
    }
   ],
   "source": [
    "print(\"Reverse Order\", sorted(sorted_places, reverse=True))"
   ]
  },
  {
   "cell_type": "code",
   "execution_count": 348,
   "metadata": {},
   "outputs": [
    {
     "name": "stdout",
     "output_type": "stream",
     "text": [
      "['Malaysia', 'Singapore', 'Rome', 'Italy', 'USA']\n"
     ]
    }
   ],
   "source": [
    "print(sorted_places)"
   ]
  },
  {
   "cell_type": "code",
   "execution_count": 349,
   "metadata": {},
   "outputs": [],
   "source": [
    "sorted_places.reverse()"
   ]
  },
  {
   "cell_type": "code",
   "execution_count": 350,
   "metadata": {},
   "outputs": [
    {
     "name": "stdout",
     "output_type": "stream",
     "text": [
      "['USA', 'Italy', 'Rome', 'Singapore', 'Malaysia']\n"
     ]
    }
   ],
   "source": [
    "print(sorted_places)"
   ]
  },
  {
   "cell_type": "code",
   "execution_count": 351,
   "metadata": {},
   "outputs": [],
   "source": [
    "sorted_places.reverse()"
   ]
  },
  {
   "cell_type": "code",
   "execution_count": 352,
   "metadata": {},
   "outputs": [
    {
     "name": "stdout",
     "output_type": "stream",
     "text": [
      "['Malaysia', 'Singapore', 'Rome', 'Italy', 'USA']\n"
     ]
    }
   ],
   "source": [
    "print(sorted_places)"
   ]
  },
  {
   "cell_type": "code",
   "execution_count": 353,
   "metadata": {},
   "outputs": [],
   "source": [
    "sorted_places.sort()"
   ]
  },
  {
   "cell_type": "code",
   "execution_count": 354,
   "metadata": {},
   "outputs": [
    {
     "name": "stdout",
     "output_type": "stream",
     "text": [
      "['Italy', 'Malaysia', 'Rome', 'Singapore', 'USA']\n"
     ]
    }
   ],
   "source": [
    "print(sorted_places)"
   ]
  },
  {
   "cell_type": "code",
   "execution_count": 355,
   "metadata": {},
   "outputs": [],
   "source": [
    "sorted_places.reverse()"
   ]
  },
  {
   "cell_type": "code",
   "execution_count": 356,
   "metadata": {},
   "outputs": [],
   "source": [
    "#Question 3.9\n",
    "name_city = ['Lahore', 'Islamabad','Faisalabad', 'Karachi']\n"
   ]
  },
  {
   "cell_type": "code",
   "execution_count": 357,
   "metadata": {},
   "outputs": [
    {
     "data": {
      "text/plain": [
       "'Karachi'"
      ]
     },
     "execution_count": 357,
     "metadata": {},
     "output_type": "execute_result"
    }
   ],
   "source": [
    "name_city[-1]\n"
   ]
  },
  {
   "cell_type": "code",
   "execution_count": 360,
   "metadata": {},
   "outputs": [
    {
     "name": "stdout",
     "output_type": "stream",
     "text": [
      "Islamabad\n"
     ]
    }
   ],
   "source": [
    "print(name_city[-3])"
   ]
  }
 ],
 "metadata": {
  "kernelspec": {
   "display_name": "Python 3",
   "language": "python",
   "name": "python3"
  },
  "language_info": {
   "codemirror_mode": {
    "name": "ipython",
    "version": 3
   },
   "file_extension": ".py",
   "mimetype": "text/x-python",
   "name": "python",
   "nbconvert_exporter": "python",
   "pygments_lexer": "ipython3",
   "version": "3.12.5"
  }
 },
 "nbformat": 4,
 "nbformat_minor": 2
}
